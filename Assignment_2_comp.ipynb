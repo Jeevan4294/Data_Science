{
 "cells": [
  {
   "cell_type": "markdown",
   "metadata": {},
   "source": [
    "## Assignment - 2"
   ]
  },
  {
   "cell_type": "markdown",
   "metadata": {},
   "source": [
    "### Task - 1"
   ]
  },
  {
   "cell_type": "markdown",
   "metadata": {},
   "source": [
    "1.1. Write a Python Program to implement your own myreduce() function which works exactly like Python's built-in function reduce()"
   ]
  },
  {
   "cell_type": "code",
   "execution_count": 1,
   "metadata": {},
   "outputs": [
    {
     "name": "stdout",
     "output_type": "stream",
     "text": [
      "output 1 : 55\n",
      "output 2 : qwertyuiop\n",
      "output 3 : None\n",
      "output 4 : 576\n",
      "output 5 : 3628800\n"
     ]
    }
   ],
   "source": [
    "def myreduce(fun,args):\n",
    "    if(len(args) == 0):\n",
    "        return None\n",
    "    res = args[0]\n",
    "    for ele in args[1:]:\n",
    "        res = fun(res,ele)\n",
    "    return res\n",
    "\n",
    "print(\"output 1 : \"+str(myreduce(lambda a,b:a+b,[1,2,3,4,5,6,7,8,9,10])))\n",
    "print(\"output 2 : \"+str(myreduce(lambda a,b:a+b,['q','w','e','r','t','y','u','i','o','p'])))\n",
    "print(\"output 3 : \"+str(myreduce(lambda a,b:a+b,[])))\n",
    "print(\"output 4 : \"+str(myreduce(lambda a,b:a*b,[-4,-3,-2,-1,1,2,3,4])))\n",
    "print(\"output 5 : \"+str(myreduce(lambda a,b:a*b,range(1,11))))"
   ]
  },
  {
   "cell_type": "markdown",
   "metadata": {},
   "source": [
    "1.2. Write a Python program to implement your own myfilter() function which works exactly like Python's built-in function filter()"
   ]
  },
  {
   "cell_type": "code",
   "execution_count": 2,
   "metadata": {},
   "outputs": [
    {
     "name": "stdout",
     "output_type": "stream",
     "text": [
      "output 1 : [2, 4, 6, 8, 10]\n",
      "output 2 : ['qwewq', 'asdfdsa']\n"
     ]
    }
   ],
   "source": [
    "def myfilter(fun,args):\n",
    "    if(len(args) == 0):\n",
    "        return None\n",
    "    res = []\n",
    "    for ele in args:\n",
    "        if(fun(ele)):\n",
    "            res.append(ele)\n",
    "    return res\n",
    "\n",
    "print(\"output 1 : \"+str(myfilter(lambda a:a%2==0,[1,2,3,4,5,6,7,8,9,10])))\n",
    "print(\"output 2 : \"+str(myfilter(lambda a:a == \"\".join(reversed(a)),['qwewq','qwerty','asdfdsa','zxcvb'])))"
   ]
  },
  {
   "cell_type": "markdown",
   "metadata": {},
   "source": [
    "2. Implement List comprehensions to produce the following lists. Write List comprehensions to produce the following Lists"
   ]
  },
  {
   "cell_type": "code",
   "execution_count": 3,
   "metadata": {},
   "outputs": [
    {
     "name": "stdout",
     "output_type": "stream",
     "text": [
      "['A', 'C', 'A', 'D', 'G', 'I', 'L', 'D']\n",
      "['X', 'XX', 'XXX', 'XXXX', 'Y', 'YY', 'YYY', 'YYYY', 'Z', 'ZZ', 'ZZZ', 'ZZZZ']\n",
      "['X', 'Y', 'Z', 'XX', 'YY', 'ZZ', 'XXX', 'YYY', 'ZZZ', 'XXXX', 'YYYY', 'ZZZZ']\n",
      "[[2], [3], [4], [3], [4], [5], [4], [5], [6]]\n",
      "[[2, 3, 4, 5], [3, 4, 5, 6], [4, 5, 6, 7], [5, 6, 7, 8]]\n",
      "[(1, 1), (2, 1), (3, 1), (1, 2), (2, 2), (3, 2), (1, 3), (2, 3), (3, 3)]\n"
     ]
    }
   ],
   "source": [
    "print([ele for ele in 'ACADGILD'])\n",
    "print([ele*num for ele in 'XYZ' for num in (1,2,3,4)])\n",
    "print([ele*num for num in (1,2,3,4) for ele in 'XYZ'])\n",
    "print([[ele1+ele2] for ele1 in (2,3,4) for ele2 in (0,1,2)])\n",
    "print([[ele1+ele2 for ele1 in (2,3,4,5)] for ele2 in (0,1,2,3)])\n",
    "print([(ele2,ele1) for ele1 in (1,2,3) for ele2 in (1,2,3)])"
   ]
  },
  {
   "cell_type": "markdown",
   "metadata": {},
   "source": [
    "3. Implement a function longestWord() that takes a list of words and returns the longest one."
   ]
  },
  {
   "cell_type": "code",
   "execution_count": 4,
   "metadata": {},
   "outputs": [],
   "source": [
    "def longestWord(lst):\n",
    "    if(len(lst) <=0 ):\n",
    "        return ''\n",
    "    \n",
    "    longWord = ''\n",
    "    longWords = []\n",
    "    for word in lst:\n",
    "        if(type(word)==str):\n",
    "            if(len(word) > len(longWord)):\n",
    "                longWord = word\n",
    "                longWords = []\n",
    "                longWords.append(word)\n",
    "            elif(len(word) == len(longWord)):\n",
    "                longWords.append(word)\n",
    "            \n",
    "    if(len(longWords) > 1):\n",
    "        return longWords\n",
    "    else:\n",
    "        return longWord\n",
    "            "
   ]
  },
  {
   "cell_type": "code",
   "execution_count": 5,
   "metadata": {},
   "outputs": [
    {
     "name": "stdout",
     "output_type": "stream",
     "text": [
      "List with single longest word : zxcvbnm\n",
      "List with multiple longest word : ['qwertyt', 'zxcvbnm']\n",
      "List with different data types longest word : zxcvbnm\n"
     ]
    }
   ],
   "source": [
    "print(\"List with single longest word : \"+str(longestWord(['qwerty','quiop','asd','fghjkl','zxcvbnm'])))\n",
    "print(\"List with multiple longest word : \"+str(longestWord(['qwertyt','quiop','asd','fghjkl','zxcvbnm'])))\n",
    "print(\"List with different data types longest word : \"+str(longestWord(['abcdef',1234567,'asd','fghjkl','zxcvbnm'])))"
   ]
  },
  {
   "cell_type": "markdown",
   "metadata": {},
   "source": [
    "### TASK - 2"
   ]
  },
  {
   "cell_type": "markdown",
   "metadata": {},
   "source": [
    "1.1. Write a Python Program(with class concepts) to find the area of the triangle using the below formula.\n",
    "\n",
    "area = (s*(s-a)*(s-b)*(s-c)) ** 0.5\n",
    "\n",
    "Function to take the length of the sides of triangle from user should be defined in the parent class and function to calculate the area should be defined in subclass."
   ]
  },
  {
   "cell_type": "code",
   "execution_count": 6,
   "metadata": {},
   "outputs": [
    {
     "name": "stdout",
     "output_type": "stream",
     "text": [
      "Area of triangle : 6.0\n"
     ]
    }
   ],
   "source": [
    "class Triangle:\n",
    "    def __init__(self,a,b,c):\n",
    "        self.a = a\n",
    "        self.b = b\n",
    "        self.c = c\n",
    "        \n",
    "    def get_perimeter(self):\n",
    "        self.perm = self.a+self.b+self.c\n",
    "        return self.perm\n",
    "        \n",
    "    def get_area(self):\n",
    "        s = self.get_perimeter()/2;\n",
    "        self.area = (s*(s-self.a)*(s-self.b)*(s-self.c))**0.5\n",
    "        return self.area\n",
    "    \n",
    "print(\"Area of triangle : \"+str(Triangle(3,4,5).get_area()))"
   ]
  },
  {
   "cell_type": "markdown",
   "metadata": {},
   "source": [
    "1.2. Write a function filter_long_words() that takes a list of words and an integer n and returns the list of words that are longer than n."
   ]
  },
  {
   "cell_type": "code",
   "execution_count": 7,
   "metadata": {},
   "outputs": [
    {
     "name": "stdout",
     "output_type": "stream",
     "text": [
      "Output 1 : ['qwerty', 'fghjkl', 'zxcvbnm']\n",
      "Output 2 : []\n",
      "List with different data types : ['abcdef', 'fghjkl', 'zxcvbnm']\n"
     ]
    }
   ],
   "source": [
    "def filter_long_words(lst,n):\n",
    "    if(len(lst) <=0 ):\n",
    "        return []\n",
    "    \n",
    "    longWords = []\n",
    "    for word in lst:\n",
    "        if(type(word)==str):\n",
    "            if(len(word) > n):\n",
    "                longWords.append(word)\n",
    "            \n",
    "    return longWords\n",
    "\n",
    "print(\"Output 1 : \"+str(filter_long_words(['qwerty','quiop','asd','fghjkl','zxcvbnm'],5)))\n",
    "print(\"Output 2 : \"+str(filter_long_words(['qwertyt','quiop','asd','fghjkl','zxcvbnm'],7)))\n",
    "print(\"List with different data types : \"+str(filter_long_words(['abcdef',1234567,'asd','fghjkl','zxcvbnm'],5)))"
   ]
  },
  {
   "cell_type": "markdown",
   "metadata": {},
   "source": [
    "2.1. Write a Python program using function concept that maps list of words into a list of integers\n",
    "representing the lengths of the corresponding words​.\n",
    "\n",
    "Hint: ​If a list [ ab,cde,erty] is passed on to the python function output should come as [2,3,4] Here 2,3 and 4 are \n",
    "\n",
    "the lengths of the words in the list."
   ]
  },
  {
   "cell_type": "code",
   "execution_count": 8,
   "metadata": {},
   "outputs": [
    {
     "name": "stdout",
     "output_type": "stream",
     "text": [
      "[3, 9, 12]\n"
     ]
    }
   ],
   "source": [
    "def wordtolen(lst):\n",
    "    return [len(word) for word in lst]\n",
    "\n",
    "print(wordtolen(['zsd','asdadfsaf','asdaerefrrrv']))"
   ]
  },
  {
   "cell_type": "markdown",
   "metadata": {},
   "source": [
    "2.2. Write a Python function which takes a character (i.e. a string of length 1) and returns True if it is a vowel, False otherwise.\n"
   ]
  },
  {
   "cell_type": "code",
   "execution_count": 9,
   "metadata": {},
   "outputs": [
    {
     "name": "stdout",
     "output_type": "stream",
     "text": [
      "False\n",
      "False\n",
      "True\n",
      "False\n",
      "False\n",
      "False\n",
      "True\n",
      "True\n",
      "True\n",
      "False\n",
      "False\n",
      "False\n"
     ]
    }
   ],
   "source": [
    "def isvowel(char):\n",
    "    if(type(char) == str):\n",
    "        if(len(char) == 1):\n",
    "            if(char in ['a','e','i','o','u','A','E','I','O','U']):\n",
    "                return True\n",
    "    return False\n",
    "\n",
    "print(isvowel('q'))\n",
    "print(isvowel('w'))\n",
    "print(isvowel('e'))\n",
    "print(isvowel('r'))\n",
    "print(isvowel('t'))\n",
    "print(isvowel('y'))\n",
    "print(isvowel('U'))\n",
    "print(isvowel('i'))\n",
    "print(isvowel('O'))\n",
    "print(isvowel(1))\n",
    "print(isvowel('qwerty'))\n",
    "print(isvowel(''))"
   ]
  }
 ],
 "metadata": {
  "kernelspec": {
   "display_name": "Python 3",
   "language": "python",
   "name": "python3"
  },
  "language_info": {
   "codemirror_mode": {
    "name": "ipython",
    "version": 3
   },
   "file_extension": ".py",
   "mimetype": "text/x-python",
   "name": "python",
   "nbconvert_exporter": "python",
   "pygments_lexer": "ipython3",
   "version": "3.7.3"
  }
 },
 "nbformat": 4,
 "nbformat_minor": 2
}
